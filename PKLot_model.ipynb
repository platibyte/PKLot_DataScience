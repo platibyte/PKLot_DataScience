{
 "cells": [
  {
   "cell_type": "code",
   "execution_count": null,
   "metadata": {},
   "outputs": [],
   "source": [
    "import os\n",
    "import json\n",
    "import pandas as pd\n",
    "from PIL import Image\n",
    "import numpy as np"
   ]
  },
  {
   "cell_type": "code",
   "execution_count": null,
   "metadata": {},
   "outputs": [],
   "source": [
    "# Load metadata file\n",
    "meta_path = 'PKLot/train/_annotations.coco.json'\n",
    "with open(meta_path) as file:\n",
    "    meta_train = json.load(file)\n"
   ]
  },
  {
   "cell_type": "code",
   "execution_count": null,
   "metadata": {},
   "outputs": [],
   "source": [
    "# Create DataFrame from the metadata\n",
    "train = pd.DataFrame(meta_train['images'])\n",
    "df_meta = pd.DataFrame(meta_train['annotations'])\n",
    "train = pd.DataFrame.merge(train,df_meta, how='left', left_on='id', right_on='image_id')\n",
    "train = train.dropna()\n",
    "train['id_y'] = train['id_y'].values.astype(int)\n",
    "train['category_id'] = train['category_id'].values.astype(int)\n",
    "train['area'] = train['area'].values.astype(int)\n",
    "train['iscrowd'] = train['iscrowd'].values.astype(int)"
   ]
  },
  {
   "cell_type": "code",
   "execution_count": null,
   "metadata": {},
   "outputs": [],
   "source": [
    "train_img_folder = 'PKLot/grey_train'\n",
    "image = {}\n",
    "for img in train['file_name'].unique():\n",
    "    img_path = os.path.join(train_img_folder, img)\n",
    "    pixels = np.array(Image.open(img_path).convert('L'))\n",
    "    pixels = pixels.reshape(640, 640)\n",
    "    image[img] = pixels\n",
    "images = np.array(image)"
   ]
  },
  {
   "cell_type": "code",
   "execution_count": null,
   "metadata": {},
   "outputs": [],
   "source": [
    "bboxes_df = train[['file_name', 'bbox']].copy()\n",
    "bboxes_df = bboxes_df.groupby('file_name', as_index=True).agg({'bbox': list})\n",
    "bboxes = np.array(bboxes_df['bbox'])"
   ]
  },
  {
   "cell_type": "code",
   "execution_count": null,
   "metadata": {},
   "outputs": [],
   "source": [
    "images = images.astype('float32')\n",
    "images = images/255\n",
    "images = images.reshape((len(images),640,640,1))"
   ]
  },
  {
   "cell_type": "code",
   "execution_count": null,
   "metadata": {},
   "outputs": [],
   "source": [
    "from tensorflow.keras.models import Sequential\n",
    "from tensorflow.keras.layers import Input, Flatten, Dense\n",
    "\n",
    "model = Sequential()\n",
    "model.add(Input(shape=(640,640,1)))\n",
    "model.add(Flatten())\n",
    "model.add(Dense(500, activation='relu'))\n",
    "model.add(Dense(50, activation='relu'))\n",
    "model.add(Dense(10, activation='softmax'))\n",
    "\n",
    "model.compile(loss='categorical_crossentropy',\n",
    "              optimizer='adam',\n",
    "              metrics=['accuracy'])\n",
    "\n",
    "history = model.fit(images, bboxes)\n",
    "                    #, validation_data=(images_test, bboxes_test) batch_size=128, epochs=10, verbose=1)"
   ]
  },
  {
   "cell_type": "code",
   "execution_count": null,
   "metadata": {},
   "outputs": [],
   "source": [
    "import matplotlib.pyplot as plt\n",
    "\n",
    "# summarize history for accuracy\n",
    "plt.figure(figsize=(14,6))\n",
    "plt.subplot(1,2,1)\n",
    "plt.plot(history.history['accuracy']) \n",
    "plt.plot(history.history['val_accuracy'])\n",
    "plt.title('model accuracy')\n",
    "plt.ylabel('accuracy')\n",
    "plt.xlabel('epoch')\n",
    "plt.legend(['train', 'valid'], loc='lower right')\n",
    "plt.subplot(1,2,2)\n",
    "plt.plot(history.history['loss']) \n",
    "plt.plot(history.history['val_loss'])\n",
    "plt.title('model loss')\n",
    "plt.ylabel('loss')\n",
    "plt.xlabel('epoch')\n",
    "plt.legend(['train', 'valid'], loc='upper right')\n",
    "plt.show()"
   ]
  }
 ],
 "metadata": {
  "kernelspec": {
   "display_name": "cas_main_dl",
   "language": "python",
   "name": "python3"
  },
  "language_info": {
   "codemirror_mode": {
    "name": "ipython",
    "version": 3
   },
   "file_extension": ".py",
   "mimetype": "text/x-python",
   "name": "python",
   "nbconvert_exporter": "python",
   "pygments_lexer": "ipython3",
   "version": "3.10.15"
  }
 },
 "nbformat": 4,
 "nbformat_minor": 2
}
