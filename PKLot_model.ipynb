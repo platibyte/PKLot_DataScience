{
 "cells": [
  {
   "cell_type": "code",
   "execution_count": 1,
   "metadata": {},
   "outputs": [],
   "source": [
    "import os\n",
    "import json\n",
    "import pandas as pd\n",
    "from PIL import Image\n",
    "import numpy as np"
   ]
  },
  {
   "cell_type": "code",
   "execution_count": 2,
   "metadata": {},
   "outputs": [],
   "source": [
    "# Load metadata file\n",
    "meta_path = 'PKLot/train/_annotations.coco.json'\n",
    "with open(meta_path) as file:\n",
    "    meta_train = json.load(file)\n"
   ]
  },
  {
   "cell_type": "code",
   "execution_count": 3,
   "metadata": {},
   "outputs": [],
   "source": [
    "# Create DataFrame from the metadata\n",
    "train = pd.DataFrame(meta_train['images'])\n",
    "df_meta = pd.DataFrame(meta_train['annotations'])\n",
    "train = pd.DataFrame.merge(train,df_meta, how='left', left_on='id', right_on='image_id')\n",
    "train = train.dropna()\n",
    "train['id_y'] = train['id_y'].values.astype(int)\n",
    "train['category_id'] = train['category_id'].values.astype(int)\n",
    "train['area'] = train['area'].values.astype(int)\n",
    "train['iscrowd'] = train['iscrowd'].values.astype(int)"
   ]
  },
  {
   "cell_type": "code",
   "execution_count": 4,
   "metadata": {},
   "outputs": [],
   "source": [
    "train_img_folder = 'PKLot/train'\n",
    "image = []\n",
    "for img in train['file_name'].unique():\n",
    "    img_path = os.path.join(train_img_folder, img)\n",
    "    pixels = np.array(Image.open(img_path).convert('L'))\n",
    "    pixels = pixels.reshape(409600)\n",
    "    image.append(pixels)"
   ]
  },
  {
   "cell_type": "code",
   "execution_count": 5,
   "metadata": {},
   "outputs": [
    {
     "name": "stdout",
     "output_type": "stream",
     "text": [
      "(8502, 409600)\n"
     ]
    }
   ],
   "source": [
    "images = np.array(image)\n",
    "print(images.shape)"
   ]
  },
  {
   "cell_type": "code",
   "execution_count": 6,
   "metadata": {},
   "outputs": [],
   "source": [
    "train_small = train[['file_name', 'bbox']].copy()\n",
    "df_grouped = train_small.groupby('file_name', as_index=True).agg({'bbox': list})\n",
    "bboxes = df_grouped['bbox'].values.tolist()"
   ]
  },
  {
   "cell_type": "code",
   "execution_count": 7,
   "metadata": {},
   "outputs": [
    {
     "name": "stdout",
     "output_type": "stream",
     "text": [
      "<class 'list'> 8502 100 4\n"
     ]
    }
   ],
   "source": [
    "print(type(bboxes), len(bboxes), len(bboxes[0]), len(bboxes[0][0]))"
   ]
  },
  {
   "cell_type": "code",
   "execution_count": 8,
   "metadata": {},
   "outputs": [],
   "source": [
    "import numpy as np\n",
    "\n",
    "max_boxes = 100\n",
    "padded_bboxes = np.zeros((len(bboxes), max_boxes, 4))\n",
    "for i, boxes in enumerate(bboxes):\n",
    "    padded_bboxes[i, :len(boxes), :] = boxes\n",
    "padded_bboxes = padded_bboxes.reshape(len(bboxes), -1)  # Form: (n_samples, 4 * max_boxes)\n"
   ]
  },
  {
   "cell_type": "code",
   "execution_count": 9,
   "metadata": {},
   "outputs": [
    {
     "name": "stdout",
     "output_type": "stream",
     "text": [
      "(2834, 640, 640, 3)\n"
     ]
    }
   ],
   "source": [
    "images = images.reshape(-1, 640, 640, 3)\n",
    "print(images.shape)  # Soll (8502, 640, 640, 3) sein\n"
   ]
  },
  {
   "cell_type": "code",
   "execution_count": 10,
   "metadata": {},
   "outputs": [
    {
     "name": "stdout",
     "output_type": "stream",
     "text": [
      "Eingabeform für das Modell: (2834, 640, 640, 3)\n",
      "Zielwerte: (8502, 400)\n"
     ]
    }
   ],
   "source": [
    "print(\"Eingabeform für das Modell:\", images.shape)\n",
    "print(\"Zielwerte:\", padded_bboxes.shape)\n"
   ]
  },
  {
   "cell_type": "code",
   "execution_count": null,
   "metadata": {},
   "outputs": [],
   "source": [
    "from tensorflow.keras.applications import MobileNetV2\n",
    "from tensorflow.keras.models import Model\n",
    "from tensorflow.keras.layers import Dense, Flatten, Input\n",
    "\n",
    "base_model = MobileNetV2(input_shape=(640, 640, 3), include_top=False, weights='imagenet')\n",
    "x = Flatten()(base_model.output)\n",
    "x = Dense(1000, activation='relu')(x)  # High-level feature representation\n",
    "output = Dense(4 * 100, activation='linear')(x)  # Predictions for all bounding boxes\n",
    "model = Model(inputs=base_model.input, outputs=output)\n"
   ]
  },
  {
   "cell_type": "code",
   "execution_count": null,
   "metadata": {},
   "outputs": [],
   "source": [
    "model.compile(optimizer='adam', loss='mean_squared_error')\n"
   ]
  },
  {
   "cell_type": "code",
   "execution_count": null,
   "metadata": {},
   "outputs": [],
   "source": [
    "history = model.fit(images, padded_bboxes, batch_size=32, epochs=10, verbose=1)\n"
   ]
  }
 ],
 "metadata": {
  "kernelspec": {
   "display_name": "cas_main_dl",
   "language": "python",
   "name": "python3"
  },
  "language_info": {
   "codemirror_mode": {
    "name": "ipython",
    "version": 3
   },
   "file_extension": ".py",
   "mimetype": "text/x-python",
   "name": "python",
   "nbconvert_exporter": "python",
   "pygments_lexer": "ipython3",
   "version": "3.10.15"
  }
 },
 "nbformat": 4,
 "nbformat_minor": 2
}
