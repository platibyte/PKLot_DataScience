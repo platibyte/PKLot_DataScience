{
 "cells": [
  {
   "cell_type": "code",
   "execution_count": null,
   "metadata": {},
   "outputs": [],
   "source": [
    "import os\n",
    "import json\n",
    "import pandas as pd\n",
    "from PIL import Image\n",
    "import numpy as np"
   ]
  },
  {
   "cell_type": "code",
   "execution_count": null,
   "metadata": {},
   "outputs": [],
   "source": [
    "# Load metadata file\n",
    "meta_path = 'PKLot/train/_annotations.coco.json'\n",
    "with open(meta_path) as file:\n",
    "    meta_train = json.load(file)\n"
   ]
  },
  {
   "cell_type": "code",
   "execution_count": null,
   "metadata": {},
   "outputs": [],
   "source": [
    "# Create DataFrame from the metadata\n",
    "train = pd.DataFrame(meta_train['images'])\n",
    "df_meta = pd.DataFrame(meta_train['annotations'])\n",
    "train = pd.DataFrame.merge(train,df_meta, how='left', left_on='id', right_on='image_id')\n",
    "train = train.dropna()\n",
    "train['id_y'] = train['id_y'].values.astype(int)\n",
    "train['category_id'] = train['category_id'].values.astype(int)\n",
    "train['area'] = train['area'].values.astype(int)\n",
    "train['iscrowd'] = train['iscrowd'].values.astype(int)"
   ]
  },
  {
   "cell_type": "code",
   "execution_count": null,
   "metadata": {},
   "outputs": [],
   "source": [
    "train_img_folder = 'PKLot/train'\n",
    "image = []\n",
    "for img in train['file_name'].unique():\n",
    "    img_path = os.path.join(train_img_folder, img)\n",
    "    pixels = np.array(Image.open(img_path))\n",
    "    image.append(pixels)\n"
   ]
  },
  {
   "cell_type": "code",
   "execution_count": null,
   "metadata": {},
   "outputs": [],
   "source": [
    "images = np.array(image)\n",
    "print(type(images), images.shape)"
   ]
  },
  {
   "cell_type": "code",
   "execution_count": null,
   "metadata": {},
   "outputs": [],
   "source": [
    "train_small = train[['file_name', 'bbox']].copy()\n",
    "df_grouped = train_small.groupby('file_name', as_index=True).agg({'bbox': list})\n",
    "bboxes = df_grouped['bbox'].values.tolist()"
   ]
  },
  {
   "cell_type": "code",
   "execution_count": null,
   "metadata": {},
   "outputs": [],
   "source": [
    "import numpy as np\n",
    "\n",
    "max_boxes = 100\n",
    "padded_bboxes = np.zeros((len(bboxes), max_boxes, 4))\n",
    "for i, boxes in enumerate(bboxes):\n",
    "    padded_bboxes[i, :len(boxes), :] = boxes\n",
    "padded_bboxes = padded_bboxes.reshape(len(bboxes), -1)  # Form: (n_samples, 4 * max_boxes)\n",
    "padded_bboxes = padded_bboxes.tolist()\n"
   ]
  },
  {
   "cell_type": "code",
   "execution_count": null,
   "metadata": {},
   "outputs": [],
   "source": [
    "from ultralytics import YOLO\n",
    "model = YOLO('YOLO8n.pt')"
   ]
  }
 ],
 "metadata": {
  "kernelspec": {
   "display_name": "YOLOV8",
   "language": "python",
   "name": "python3"
  },
  "language_info": {
   "codemirror_mode": {
    "name": "ipython",
    "version": 3
   },
   "file_extension": ".py",
   "mimetype": "text/x-python",
   "name": "python",
   "nbconvert_exporter": "python",
   "pygments_lexer": "ipython3",
   "version": "3.12.7"
  }
 },
 "nbformat": 4,
 "nbformat_minor": 2
}
